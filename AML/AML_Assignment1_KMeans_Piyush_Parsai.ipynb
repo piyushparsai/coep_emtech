{
  "cells": [
    {
      "cell_type": "markdown",
      "metadata": {},
      "source": [
        "# AML Assignment 1 \n",
        "<h3>K-Means Clustering </h3>"
      ]
    },
    {
      "cell_type": "markdown",
      "metadata": {},
      "source": [
        "Done by: <b>Piyush Bhupendra Parsai</b><br>MIS#    :<b>712352029<b>"
      ]
    },
    {
      "cell_type": "markdown",
      "metadata": {},
      "source": [
        "## <h3> Problem Statement:</h3>\n",
        "Implement K-means clustering on Iris Flower dataset for k=3 clusters without using class labels and evaluate the models performance based on its accuracy and test the results of the model against the existing labels in the dataset."
      ]
    },
    {
      "cell_type": "markdown",
      "metadata": {},
      "source": [
        "## <h3>Execution<h3>"
      ]
    },
    {
      "cell_type": "markdown",
      "metadata": {},
      "source": [
        "### <h3>import libraries<h3>"
      ]
    },
    {
      "cell_type": "code",
      "execution_count": 1,
      "metadata": {},
      "outputs": [],
      "source": [
        "# import libraries\n",
        "import pandas as pd\n",
        "import numpy as np\n",
        "import matplotlib.pyplot as plt\n",
        "\n",
        "from sklearn.cluster import KMeans # import k-means lib"
      ]
    },
    {
      "cell_type": "markdown",
      "metadata": {},
      "source": [
        "### <h4>Load the dataset </h4>"
      ]
    },
    {
      "cell_type": "markdown",
      "metadata": {},
      "source": [
        "Find the dataset file from the assignment folder. \n",
        "It is available as Data.tsv, i.e., in a tab separated format.\n",
        "The data contains 150 sample points. Each sample has 4 features, i.e., sepal length, sepal width, petal length and petal width."
      ]
    },
    {
      "cell_type": "code",
      "execution_count": 2,
      "metadata": {
        "id": "iz_gY6oe5F4W"
      },
      "outputs": [],
      "source": [
        "# Use pandas read_table method to load tab saperated dataset in a DataFrame\n",
        "iris_df = pd.read_table(\"file:///C:/temp/data/Data.tsv\", names=[\"sepal_length\", \"sepal_width\", \"petal_length\", \"petal_width\"])"
      ]
    },
    {
      "cell_type": "markdown",
      "metadata": {},
      "source": [
        "<b>Explore the dataset</b>"
      ]
    },
    {
      "cell_type": "code",
      "execution_count": 3,
      "metadata": {
        "colab": {
          "base_uri": "https://localhost:8080/",
          "height": 554
        },
        "id": "ZreLX-Eu6ELY",
        "outputId": "4976a097-0b04-42cf-ea0f-2a21ed0554a0"
      },
      "outputs": [
        {
          "name": "stdout",
          "output_type": "stream",
          "text": [
            "<class 'pandas.core.frame.DataFrame'>\n",
            "RangeIndex: 150 entries, 0 to 149\n",
            "Data columns (total 4 columns):\n",
            " #   Column        Non-Null Count  Dtype  \n",
            "---  ------        --------------  -----  \n",
            " 0   sepal_length  150 non-null    float64\n",
            " 1   sepal_width   150 non-null    float64\n",
            " 2   petal_length  150 non-null    float64\n",
            " 3   petal_width   150 non-null    float64\n",
            "dtypes: float64(4)\n",
            "memory usage: 4.8 KB\n"
          ]
        }
      ],
      "source": [
        "# Print basic info from the dataset.\n",
        "iris_df.info()\n"
      ]
    },
    {
      "cell_type": "code",
      "execution_count": 4,
      "metadata": {},
      "outputs": [
        {
          "data": {
            "text/html": [
              "<div>\n",
              "<style scoped>\n",
              "    .dataframe tbody tr th:only-of-type {\n",
              "        vertical-align: middle;\n",
              "    }\n",
              "\n",
              "    .dataframe tbody tr th {\n",
              "        vertical-align: top;\n",
              "    }\n",
              "\n",
              "    .dataframe thead th {\n",
              "        text-align: right;\n",
              "    }\n",
              "</style>\n",
              "<table border=\"1\" class=\"dataframe\">\n",
              "  <thead>\n",
              "    <tr style=\"text-align: right;\">\n",
              "      <th></th>\n",
              "      <th>sepal_length</th>\n",
              "      <th>sepal_width</th>\n",
              "      <th>petal_length</th>\n",
              "      <th>petal_width</th>\n",
              "    </tr>\n",
              "  </thead>\n",
              "  <tbody>\n",
              "    <tr>\n",
              "      <th>count</th>\n",
              "      <td>1.500000e+02</td>\n",
              "      <td>1.500000e+02</td>\n",
              "      <td>1.500000e+02</td>\n",
              "      <td>1.500000e+02</td>\n",
              "    </tr>\n",
              "    <tr>\n",
              "      <th>mean</th>\n",
              "      <td>-1.515825e-15</td>\n",
              "      <td>-1.823726e-15</td>\n",
              "      <td>-1.610564e-15</td>\n",
              "      <td>-9.000208e-16</td>\n",
              "    </tr>\n",
              "    <tr>\n",
              "      <th>std</th>\n",
              "      <td>1.003350e+00</td>\n",
              "      <td>1.003350e+00</td>\n",
              "      <td>1.003350e+00</td>\n",
              "      <td>1.003350e+00</td>\n",
              "    </tr>\n",
              "    <tr>\n",
              "      <th>min</th>\n",
              "      <td>-1.870024e+00</td>\n",
              "      <td>-2.433947e+00</td>\n",
              "      <td>-1.567576e+00</td>\n",
              "      <td>-1.447076e+00</td>\n",
              "    </tr>\n",
              "    <tr>\n",
              "      <th>25%</th>\n",
              "      <td>-9.006812e-01</td>\n",
              "      <td>-5.923730e-01</td>\n",
              "      <td>-1.226552e+00</td>\n",
              "      <td>-1.183812e+00</td>\n",
              "    </tr>\n",
              "    <tr>\n",
              "      <th>50%</th>\n",
              "      <td>-5.250608e-02</td>\n",
              "      <td>-1.319795e-01</td>\n",
              "      <td>3.364776e-01</td>\n",
              "      <td>1.325097e-01</td>\n",
              "    </tr>\n",
              "    <tr>\n",
              "      <th>75%</th>\n",
              "      <td>6.745011e-01</td>\n",
              "      <td>5.586108e-01</td>\n",
              "      <td>7.627583e-01</td>\n",
              "      <td>7.906707e-01</td>\n",
              "    </tr>\n",
              "    <tr>\n",
              "      <th>max</th>\n",
              "      <td>2.492019e+00</td>\n",
              "      <td>3.090775e+00</td>\n",
              "      <td>1.785832e+00</td>\n",
              "      <td>1.712096e+00</td>\n",
              "    </tr>\n",
              "  </tbody>\n",
              "</table>\n",
              "</div>"
            ],
            "text/plain": [
              "       sepal_length   sepal_width  petal_length   petal_width\n",
              "count  1.500000e+02  1.500000e+02  1.500000e+02  1.500000e+02\n",
              "mean  -1.515825e-15 -1.823726e-15 -1.610564e-15 -9.000208e-16\n",
              "std    1.003350e+00  1.003350e+00  1.003350e+00  1.003350e+00\n",
              "min   -1.870024e+00 -2.433947e+00 -1.567576e+00 -1.447076e+00\n",
              "25%   -9.006812e-01 -5.923730e-01 -1.226552e+00 -1.183812e+00\n",
              "50%   -5.250608e-02 -1.319795e-01  3.364776e-01  1.325097e-01\n",
              "75%    6.745011e-01  5.586108e-01  7.627583e-01  7.906707e-01\n",
              "max    2.492019e+00  3.090775e+00  1.785832e+00  1.712096e+00"
            ]
          },
          "execution_count": 4,
          "metadata": {},
          "output_type": "execute_result"
        }
      ],
      "source": [
        "iris_df.describe()"
      ]
    },
    {
      "cell_type": "code",
      "execution_count": 5,
      "metadata": {},
      "outputs": [
        {
          "data": {
            "text/plain": [
              "sepal_length    0\n",
              "sepal_width     0\n",
              "petal_length    0\n",
              "petal_width     0\n",
              "dtype: int64"
            ]
          },
          "execution_count": 5,
          "metadata": {},
          "output_type": "execute_result"
        }
      ],
      "source": [
        "# Check for null values\n",
        "iris_df.isnull().sum()"
      ]
    },
    {
      "cell_type": "code",
      "execution_count": 6,
      "metadata": {},
      "outputs": [
        {
          "data": {
            "text/html": [
              "<div>\n",
              "<style scoped>\n",
              "    .dataframe tbody tr th:only-of-type {\n",
              "        vertical-align: middle;\n",
              "    }\n",
              "\n",
              "    .dataframe tbody tr th {\n",
              "        vertical-align: top;\n",
              "    }\n",
              "\n",
              "    .dataframe thead th {\n",
              "        text-align: right;\n",
              "    }\n",
              "</style>\n",
              "<table border=\"1\" class=\"dataframe\">\n",
              "  <thead>\n",
              "    <tr style=\"text-align: right;\">\n",
              "      <th></th>\n",
              "      <th>sepal_length</th>\n",
              "      <th>sepal_width</th>\n",
              "      <th>petal_length</th>\n",
              "      <th>petal_width</th>\n",
              "    </tr>\n",
              "  </thead>\n",
              "  <tbody>\n",
              "    <tr>\n",
              "      <th>0</th>\n",
              "      <td>-1.143017</td>\n",
              "      <td>0.098217</td>\n",
              "      <td>-1.283389</td>\n",
              "      <td>-1.315444</td>\n",
              "    </tr>\n",
              "    <tr>\n",
              "      <th>1</th>\n",
              "      <td>-0.779513</td>\n",
              "      <td>-0.822570</td>\n",
              "      <td>0.080709</td>\n",
              "      <td>0.264142</td>\n",
              "    </tr>\n",
              "    <tr>\n",
              "      <th>2</th>\n",
              "      <td>-0.173674</td>\n",
              "      <td>-0.592373</td>\n",
              "      <td>0.421734</td>\n",
              "      <td>0.132510</td>\n",
              "    </tr>\n",
              "    <tr>\n",
              "      <th>3</th>\n",
              "      <td>0.310998</td>\n",
              "      <td>-0.592373</td>\n",
              "      <td>0.137547</td>\n",
              "      <td>0.132510</td>\n",
              "    </tr>\n",
              "    <tr>\n",
              "      <th>4</th>\n",
              "      <td>-0.173674</td>\n",
              "      <td>3.090775</td>\n",
              "      <td>-1.283389</td>\n",
              "      <td>-1.052180</td>\n",
              "    </tr>\n",
              "    <tr>\n",
              "      <th>5</th>\n",
              "      <td>-1.748856</td>\n",
              "      <td>-0.131979</td>\n",
              "      <td>-1.397064</td>\n",
              "      <td>-1.315444</td>\n",
              "    </tr>\n",
              "    <tr>\n",
              "      <th>6</th>\n",
              "      <td>-0.658345</td>\n",
              "      <td>1.479398</td>\n",
              "      <td>-1.283389</td>\n",
              "      <td>-1.315444</td>\n",
              "    </tr>\n",
              "    <tr>\n",
              "      <th>7</th>\n",
              "      <td>-0.052506</td>\n",
              "      <td>2.169988</td>\n",
              "      <td>-1.453901</td>\n",
              "      <td>-1.315444</td>\n",
              "    </tr>\n",
              "    <tr>\n",
              "      <th>8</th>\n",
              "      <td>-1.021849</td>\n",
              "      <td>-0.131979</td>\n",
              "      <td>-1.226552</td>\n",
              "      <td>-1.315444</td>\n",
              "    </tr>\n",
              "    <tr>\n",
              "      <th>9</th>\n",
              "      <td>0.189830</td>\n",
              "      <td>-1.973554</td>\n",
              "      <td>0.137547</td>\n",
              "      <td>-0.262387</td>\n",
              "    </tr>\n",
              "  </tbody>\n",
              "</table>\n",
              "</div>"
            ],
            "text/plain": [
              "   sepal_length  sepal_width  petal_length  petal_width\n",
              "0     -1.143017     0.098217     -1.283389    -1.315444\n",
              "1     -0.779513    -0.822570      0.080709     0.264142\n",
              "2     -0.173674    -0.592373      0.421734     0.132510\n",
              "3      0.310998    -0.592373      0.137547     0.132510\n",
              "4     -0.173674     3.090775     -1.283389    -1.052180\n",
              "5     -1.748856    -0.131979     -1.397064    -1.315444\n",
              "6     -0.658345     1.479398     -1.283389    -1.315444\n",
              "7     -0.052506     2.169988     -1.453901    -1.315444\n",
              "8     -1.021849    -0.131979     -1.226552    -1.315444\n",
              "9      0.189830    -1.973554      0.137547    -0.262387"
            ]
          },
          "execution_count": 6,
          "metadata": {},
          "output_type": "execute_result"
        }
      ],
      "source": [
        "# Print first 10 entries of the dataset\n",
        "iris_df.head(10)"
      ]
    },
    {
      "cell_type": "code",
      "execution_count": 7,
      "metadata": {},
      "outputs": [
        {
          "data": {
            "image/png": "[encoded data removed]",
            "text/plain": [
              "<Figure size 640x480 with 1 Axes>"
            ]
          },
          "metadata": {},
          "output_type": "display_data"
        }
      ],
      "source": [
        "# Scatter plot of sepal_length vs sepal_width\n",
        "plt.scatter(iris_df['sepal_length'], iris_df['sepal_width'])\n",
        "plt.show()"
      ]
    },
    {
      "cell_type": "markdown",
      "metadata": {},
      "source": [
        "### <h3>Implement a basic K-means models on the features in the dataset.</h3>"
      ]
    },
    {
      "cell_type": "markdown",
      "metadata": {},
      "source": [
        "<b>Load the DataFrame in an array</b>"
      ]
    },
    {
      "cell_type": "code",
      "execution_count": 8,
      "metadata": {},
      "outputs": [],
      "source": [
        "iris_arr = iris_df.to_numpy()"
      ]
    },
    {
      "cell_type": "markdown",
      "metadata": {},
      "source": [
        "<b>Initialize the centroids</b><br>\n",
        "Initialize centroid as given in assignment.<br>\n",
        "[[ 1.03800476 0.09821729 1.0469454 1.58046376 ]<br>\n",
        "[ 0.18982966 -1.97355361 0.70592084 0.3957741 ]<br>\n",
        "[ 1.2803405 0.09821729 0.76275827 1.44883158 ]]<br>"
      ]
    },
    {
      "cell_type": "code",
      "execution_count": 9,
      "metadata": {
        "id": "SI0D_2qp7PfY"
      },
      "outputs": [
        {
          "name": "stdout",
          "output_type": "stream",
          "text": [
            "[[ 1.03800476  0.09821729  1.0469454   1.58046376]\n",
            " [ 0.18982966 -1.97355361  0.70592084  0.3957741 ]\n",
            " [ 1.2803405   0.09821729  0.76275827  1.44883158]]\n"
          ]
        }
      ],
      "source": [
        "# Initialize centroids\n",
        "initial_centroids = np.array(\n",
        "    [\n",
        "        [1.03800476, 0.09821729, 1.0469454, 1.58046376],\n",
        "        [0.18982966, -1.97355361, 0.70592084, 0.3957741], \n",
        "        [1.2803405, 0.09821729, 0.76275827, 1.44883158]\n",
        "    ],\n",
        "    np.float64)\n",
        "\n",
        "print(initial_centroids)"
      ]
    },
    {
      "cell_type": "markdown",
      "metadata": {},
      "source": [
        "<b>Run K-means on the Iris dataset with k = 3, i.e., 3 clusters</b>"
      ]
    },
    {
      "cell_type": "code",
      "execution_count": 10,
      "metadata": {
        "colab": {
          "base_uri": "https://localhost:8080/"
        },
        "id": "GWXt6OeGC5ka",
        "outputId": "adf6944d-a3ff-4f46-80a6-97f8b2af32b9"
      },
      "outputs": [
        {
          "data": {
            "text/plain": [
              "(150,)"
            ]
          },
          "execution_count": 10,
          "metadata": {},
          "output_type": "execute_result"
        }
      ],
      "source": [
        "# Run k-means clustering for k=3\n",
        "classifier = KMeans(n_clusters = 3, init = initial_centroids)\n",
        "predictions = classifier.fit_predict(X=iris_arr)\n",
        "predictions.shape"
      ]
    },
    {
      "cell_type": "code",
      "execution_count": 11,
      "metadata": {},
      "outputs": [
        {
          "name": "stdout",
          "output_type": "stream",
          "text": [
            "[1 2 2 2 1 1 1 1 1 2 0 1 2 1 1 2 1 2 1 1 1 0 1 2 1 2 1 2 1 1 1 2 2 0 1 1 1\n",
            " 1 1 2 1 1 1 0 2 1 1 1 1 1 1 1 1 1 2 1 1 1 1 1 2 1 1 1 1 0 2 2 1 0 2 1 1 1\n",
            " 1 0 2 0 2 2 2 0 2 2 2 2 0 0 0 0 2 2 0 2 2 0 2 0 0 2 2 2 0 0 2 2 2 0 2 0 0\n",
            " 0 0 2 2 2 0 2 0 0 0 0 0 0 0 0 0 0 2 0 2 2 0 0 0 2 2 0 0 0 2 0 2 0 0 0 2 2\n",
            " 2 0]\n"
          ]
        }
      ],
      "source": [
        "# Print the output predictions\n",
        "print(predictions)"
      ]
    },
    {
      "cell_type": "code",
      "execution_count": 12,
      "metadata": {},
      "outputs": [
        {
          "name": "stdout",
          "output_type": "stream",
          "text": [
            "Intial Centroids: \n",
            "[[ 1.03800476  0.09821729  1.0469454   1.58046376]\n",
            " [ 0.18982966 -1.97355361  0.70592084  0.3957741 ]\n",
            " [ 1.2803405   0.09821729  0.76275827  1.44883158]]\n",
            "\n",
            "Final Centroids: \n",
            " [[ 1.13597027  0.08842168  0.99615451  1.01752612]\n",
            " [-1.01457897  0.85326268 -1.30498732 -1.25489349]\n",
            " [-0.05021989 -0.88337647  0.34773781  0.2815273 ]]\n"
          ]
        }
      ],
      "source": [
        "# Compare intial centroids with final centroids\n",
        "print(f'Intial Centroids: \\n{initial_centroids}\\n')\n",
        "print(f'Final Centroids: \\n {classifier.cluster_centers_}')"
      ]
    },
    {
      "cell_type": "markdown",
      "metadata": {},
      "source": [
        "### <h3>Visualize the clusters</h3>"
      ]
    },
    {
      "cell_type": "code",
      "execution_count": 13,
      "metadata": {},
      "outputs": [
        {
          "data": {
            "text/plain": [
              "<matplotlib.legend.Legend at 0x2bf38bb9e80>"
            ]
          },
          "execution_count": 13,
          "metadata": {},
          "output_type": "execute_result"
        },
        {
          "data": {
            "image/png": "[encoded data removed]",
            "text/plain": [
              "<Figure size 640x480 with 1 Axes>"
            ]
          },
          "metadata": {},
          "output_type": "display_data"
        }
      ],
      "source": [
        "# Visualising the clusters\n",
        "plt.scatter(iris_arr[predictions == 0, 0], iris_arr[predictions == 0, 1], s = 100, c = 'blue', label = 'cluster-1')\n",
        "plt.scatter(iris_arr[predictions == 1, 0], iris_arr[predictions == 1, 1], s = 100, c = 'green', label = 'cluster-2')\n",
        "plt.scatter(iris_arr[predictions == 2, 0], iris_arr[predictions == 2, 1], s = 100, c = 'orange', label = 'cluster-3')\n",
        "\n",
        "# Plot the centroids\n",
        "plt.scatter(classifier.cluster_centers_[:, 0], classifier.cluster_centers_[:,1], s = 100, c = 'red', label = 'centroids')\n",
        "\n",
        "plt.legend()"
      ]
    },
    {
      "cell_type": "markdown",
      "metadata": {},
      "source": [
        "### <h3>Save the results</h3>"
      ]
    },
    {
      "cell_type": "markdown",
      "metadata": {},
      "source": [
        "Your K-means must output a file named kmeans_output.tsv that contains the\n",
        "cluster assignments for each point in Data.tsv. In particular, you should use the\n",
        "same ordering for the data points as in Data.tsv; the file should have one line with\n",
        "tabs separating the cluster labels for each point."
      ]
    },
    {
      "cell_type": "code",
      "execution_count": 14,
      "metadata": {},
      "outputs": [],
      "source": [
        "# Initialize path the save results\n",
        "path_to_save = fr'c:\\temp\\data\\kmeans_output.tsv'\n",
        "\n",
        "# Load prediction results in pandas DataFrame\n",
        "cluster_result = pd.DataFrame(predictions).T\n",
        "\n",
        "# Save the results from DataFrame to file as tab saperated values\n",
        "cluster_result.to_csv(path_or_buf=path_to_save,\n",
        "                      sep=\"\\t\",\n",
        "                      header=False,\n",
        "                      index=False)"
      ]
    },
    {
      "cell_type": "markdown",
      "metadata": {},
      "source": [
        "### <h3>Check accuracy</h3>"
      ]
    },
    {
      "cell_type": "markdown",
      "metadata": {},
      "source": [
        "The script autograderClustering.py can be used for testing the accuracy of your model.\n",
        "Run the script as:<br>\n",
        "<i>python autograderClustering.py kmeans_output.ts</i>"
      ]
    },
    {
      "attachments": {
        "image.png": {
          "image/png": "[encoded data removed]"
        }
      },
      "cell_type": "markdown",
      "metadata": {
        "id": "ds07mFgFJc6F"
      },
      "source": [
        "Accuracy of the model (found using autograderClustering.py) = 83.33333333333334\n",
        "\n",
        "![image.png](attachment:image.png)\n",
        "\n"
      ]
    }
  ],
  "metadata": {
    "colab": {
      "provenance": []
    },
    "kernelspec": {
      "display_name": "Python 3 (ipykernel)",
      "language": "python",
      "name": "python3"
    },
    "language_info": {
      "codemirror_mode": {
        "name": "ipython",
        "version": 3
      },
      "file_extension": ".py",
      "mimetype": "text/x-python",
      "name": "python",
      "nbconvert_exporter": "python",
      "pygments_lexer": "ipython3",
      "version": "3.12.2"
    }
  },
  "nbformat": 4,
  "nbformat_minor": 0
}
