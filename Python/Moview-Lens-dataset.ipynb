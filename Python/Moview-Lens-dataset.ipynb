{
  "cells": [
    {
      "cell_type": "markdown",
      "source": [
        "### Analysis of Movie ratings dataset “Movie Lens Dataset”"
      ],
      "metadata": {
        "id": "FKggst9OwGw1"
      },
      "id": "FKggst9OwGw1"
    },
    {
      "cell_type": "markdown",
      "source": [
        "Import required libraries and intialize spark context"
      ],
      "metadata": {
        "id": "QW1jdJM6w_fV"
      },
      "id": "QW1jdJM6w_fV"
    },
    {
      "cell_type": "code",
      "source": [
        "import findspark\n",
        "findspark.init()\n",
        "import pyspark\n",
        "from pyspark.sql import SparkSession\n",
        "spark = SparkSession.builder.master(\"local\").appName(\"MovieRating\").getOrCreate()\n",
        "sc=spark.sparkContext\n"
      ],
      "metadata": {
        "id": "N-i4-wZ-vDqk"
      },
      "id": "N-i4-wZ-vDqk",
      "execution_count": 9,
      "outputs": []
    },
    {
      "cell_type": "markdown",
      "source": [
        "<p color>Q a) How many lines does the ratings file contain?<p>"
      ],
      "metadata": {
        "id": "sxovVAL2wvNs"
      },
      "id": "sxovVAL2wvNs"
    },
    {
      "cell_type": "code",
      "source": [
        "ratings_file=sc.textFile(r'/content/sample_data/ratings.dat')\n",
        "number_of_lines=ratings_file.count()\n",
        "print(f'The ratings.dat file contains {number_of_lines} lines')"
      ],
      "metadata": {
        "id": "hgwyKf3KvjZ2",
        "outputId": "3e166445-6c33-4e13-a3b1-b727cecc0ba5",
        "colab": {
          "base_uri": "https://localhost:8080/"
        }
      },
      "id": "hgwyKf3KvjZ2",
      "execution_count": 10,
      "outputs": [
        {
          "output_type": "stream",
          "name": "stdout",
          "text": [
            "The ratings.dat file contains 1000209 lines\n"
          ]
        }
      ]
    },
    {
      "cell_type": "markdown",
      "source": [
        "Q b) How many times the rating “1” has been given?"
      ],
      "metadata": {
        "id": "cfKuYCTM3zoY"
      },
      "id": "cfKuYCTM3zoY"
    },
    {
      "cell_type": "code",
      "source": [
        "splitted_ratings_data = ratings_file.map(lambda line1: line1.split('::'))"
      ],
      "metadata": {
        "id": "f77UFEU8hEBb"
      },
      "id": "f77UFEU8hEBb",
      "execution_count": 11,
      "outputs": []
    },
    {
      "cell_type": "code",
      "source": [
        "count_rating_1 = splitted_ratings_data.map(lambda line: line[2]).filter(lambda col: col == '1').count()\n",
        "print(f'Rating 1 was given {count_rating_1} times.')"
      ],
      "metadata": {
        "id": "YZAv4vq02pxr",
        "outputId": "5cad19b1-4d52-483b-ec9a-e6ff4c9b903a",
        "colab": {
          "base_uri": "https://localhost:8080/"
        }
      },
      "id": "YZAv4vq02pxr",
      "execution_count": 12,
      "outputs": [
        {
          "output_type": "stream",
          "name": "stdout",
          "text": [
            "Rating 1 was given 56174 times.\n"
          ]
        }
      ]
    },
    {
      "cell_type": "markdown",
      "source": [
        "Q c) Which are the 10 most popular movies?"
      ],
      "metadata": {
        "id": "WTaI2wwz4L6g"
      },
      "id": "WTaI2wwz4L6g"
    },
    {
      "cell_type": "code",
      "source": [
        "movid_rating_rdd = splitted_ratings_data.map(lambda item : (item[1], int(item[2])))\n",
        "movid_total_ratings_rdd = movid_rating_rdd.groupByKey().mapValues(lambda values: sum(values))\n",
        "movid_top10_rating_rdd = sc.parallelize(movid_total_ratings_rdd.sortBy(lambda x: x[1], ascending=False).take(10))"
      ],
      "metadata": {
        "id": "QBmY64B84OXN"
      },
      "id": "QBmY64B84OXN",
      "execution_count": 13,
      "outputs": []
    },
    {
      "cell_type": "markdown",
      "source": [
        "Load moving.dat to get movie names"
      ],
      "metadata": {
        "id": "5dBw9m0NhlWY"
      },
      "id": "5dBw9m0NhlWY"
    },
    {
      "cell_type": "code",
      "source": [
        "movies_file=sc.textFile(r'/content/sample_data/movies.dat')\n",
        "splitted_movies_data = movies_file.map(lambda line1: line1.split('::'))\n"
      ],
      "metadata": {
        "id": "Jtwr8DGhhgav"
      },
      "id": "Jtwr8DGhhgav",
      "execution_count": 19,
      "outputs": []
    },
    {
      "cell_type": "markdown",
      "source": [
        "Print final result"
      ],
      "metadata": {
        "id": "LHiW1oqjm4Kq"
      },
      "id": "LHiW1oqjm4Kq"
    },
    {
      "cell_type": "code",
      "source": [
        "final_result = movid_top10_rating_rdd.join(splitted_movies_data).map(lambda x: (x[0], x[1][0], x[1][1])).collect()\n"
      ],
      "metadata": {
        "id": "_81JNs72iBda"
      },
      "id": "_81JNs72iBda",
      "execution_count": 21,
      "outputs": []
    },
    {
      "cell_type": "code",
      "source": [
        "print(f'Following are top 10 most popular moviews based on consolidated user ratings:')\n",
        "for itr, item in enumerate(final_result, start=1):\n",
        "  print(f'#{itr} {item[2]}, {item[1]}')"
      ],
      "metadata": {
        "id": "JA-X4MGBm28Z",
        "outputId": "00872e23-f84f-4d2e-9815-b1e788b1d5e6",
        "colab": {
          "base_uri": "https://localhost:8080/"
        }
      },
      "id": "JA-X4MGBm28Z",
      "execution_count": 22,
      "outputs": [
        {
          "output_type": "stream",
          "name": "stdout",
          "text": [
            "Following are top 10 most popular moviews based on consolidated user ratings:\n",
            "#1 Star Wars: Episode V - The Empire Strikes Back (1980), 12836\n",
            "#2 Star Wars: Episode VI - Return of the Jedi (1983), 11598\n",
            "#3 Saving Private Ryan (1998), 11507\n",
            "#4 Raiders of the Lost Ark (1981), 11257\n",
            "#5 Sixth Sense, The (1999), 10835\n",
            "#6 American Beauty (1999), 14800\n",
            "#7 Star Wars: Episode IV - A New Hope (1977), 13321\n",
            "#8 Silence of the Lambs, The (1991), 11219\n",
            "#9 Matrix, The (1999), 11178\n",
            "#10 Terminator 2: Judgment Day (1991), 10751\n"
          ]
        }
      ]
    }
  ],
  "metadata": {
    "kernelspec": {
      "display_name": "anaconda-panel-2023.05-py310",
      "language": "python",
      "name": "conda-env-anaconda-panel-2023.05-py310-py"
    },
    "language_info": {
      "codemirror_mode": {
        "name": "ipython",
        "version": 3
      },
      "file_extension": ".py",
      "mimetype": "text/x-python",
      "name": "python",
      "nbconvert_exporter": "python",
      "pygments_lexer": "ipython3",
      "version": "3.11.3"
    },
    "colab": {
      "provenance": []
    }
  },
  "nbformat": 4,
  "nbformat_minor": 5
}