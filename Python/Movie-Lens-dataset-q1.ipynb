{
  "cells": [
    {
      "cell_type": "markdown",
      "source": [
        "Assignment: Data Engineering\n",
        "\n",
        "Done by : Piyush Parsai (MIS: 712352029)"
      ],
      "metadata": {
        "id": "XYTNruoL3xDi"
      },
      "id": "XYTNruoL3xDi"
    },
    {
      "cell_type": "markdown",
      "source": [
        "# Analysis of Movie ratings dataset “Movie Lens Dataset”"
      ],
      "metadata": {
        "id": "FKggst9OwGw1"
      },
      "id": "FKggst9OwGw1"
    },
    {
      "cell_type": "markdown",
      "source": [
        "## Import required libraries and intialize spark context"
      ],
      "metadata": {
        "id": "QW1jdJM6w_fV"
      },
      "id": "QW1jdJM6w_fV"
    },
    {
      "cell_type": "code",
      "source": [
        "import findspark\n",
        "findspark.init()\n",
        "import pyspark\n",
        "from pyspark.sql import SparkSession\n",
        "spark = SparkSession.builder.master(\"local\").appName(\"MovieRating\").getOrCreate()\n",
        "sc=spark.sparkContext"
      ],
      "metadata": {
        "id": "N-i4-wZ-vDqk"
      },
      "id": "N-i4-wZ-vDqk",
      "execution_count": 10,
      "outputs": []
    },
    {
      "cell_type": "markdown",
      "source": [
        "## Q a) How many lines does the ratings file contain?"
      ],
      "metadata": {
        "id": "sxovVAL2wvNs"
      },
      "id": "sxovVAL2wvNs"
    },
    {
      "cell_type": "code",
      "source": [
        "# Load data from ratings.dat in an rdd\n",
        "ratings_file_rdd = sc.textFile(r'/content/ratings.dat')\n",
        "number_of_lines=ratings_file_rdd.count()\n",
        "\n",
        "# Print the result\n",
        "print(f'The ratings.dat file contains {number_of_lines} lines')"
      ],
      "metadata": {
        "id": "hgwyKf3KvjZ2",
        "outputId": "806a627c-e9e9-4623-961d-31a7d76eefed",
        "colab": {
          "base_uri": "https://localhost:8080/",
          "height": 0
        }
      },
      "id": "hgwyKf3KvjZ2",
      "execution_count": 11,
      "outputs": [
        {
          "output_type": "stream",
          "name": "stdout",
          "text": [
            "The ratings.dat file contains 1000209 lines\n"
          ]
        }
      ]
    },
    {
      "cell_type": "markdown",
      "source": [
        "## Q b) How many times the rating “1” has been given?"
      ],
      "metadata": {
        "id": "cfKuYCTM3zoY"
      },
      "id": "cfKuYCTM3zoY"
    },
    {
      "cell_type": "code",
      "source": [
        "# Split the entries in ratings_file_rdd by ::\n",
        "splitted_ratings_data = ratings_file_rdd.map(lambda line: line.split('::'))\n",
        "\n",
        "# Rating is present in coulumn 2 (Third column)\n",
        "ratings_rdd = splitted_ratings_data.map(lambda x: int(x[2]))\n",
        "\n",
        "# Find number of times rating 1 appeared\n",
        "count_rating_1 = ratings_rdd.filter(lambda x: x == 1).count()\n",
        "\n",
        "# Print the result\n",
        "print(f'Rating 1 was given {count_rating_1} times.')"
      ],
      "metadata": {
        "id": "f77UFEU8hEBb",
        "colab": {
          "base_uri": "https://localhost:8080/",
          "height": 0
        },
        "outputId": "11fa20a2-edd9-4d6e-ac02-6ca9a7e48f49"
      },
      "id": "f77UFEU8hEBb",
      "execution_count": 12,
      "outputs": [
        {
          "output_type": "stream",
          "name": "stdout",
          "text": [
            "Rating 1 was given 56174 times.\n"
          ]
        }
      ]
    },
    {
      "cell_type": "markdown",
      "source": [
        "## Q c) Which are the 10 most popular movies?"
      ],
      "metadata": {
        "id": "WTaI2wwz4L6g"
      },
      "id": "WTaI2wwz4L6g"
    },
    {
      "cell_type": "code",
      "source": [
        "# Get top 10 rated movie ids from rating.dat\n",
        "movie_rating_rdd = splitted_ratings_data.map(lambda item : (item[1], int(item[2])))\n",
        "movie_total_ratings_rdd = movie_rating_rdd.groupByKey().mapValues(lambda values: sum(values))\n",
        "movie_top10_rating_rdd = sc.parallelize(movie_total_ratings_rdd.sortBy(lambda x: x[1], ascending=False).take(10))\n",
        "\n",
        "# Load moving.dat to get movie names\n",
        "splitted_movies_rdd = sc.textFile(r'/content/movies.dat').map(lambda line1: line1.split('::'))\n",
        "\n",
        "# Map the movie id with movie names\n",
        "final_result_rdd = movie_top10_rating_rdd.join(splitted_movies_rdd).map(lambda x: (x[0], x[1][0], x[1][1])).collect()\n",
        "\n",
        "# Print final result\n",
        "print(f'Following are top 10 most popular moviews based on consolidated user ratings:')\n",
        "for itr, item in enumerate(final_result_rdd, start=1):\n",
        "  print(f'#{itr} {item[2]}, {item[1]}')"
      ],
      "metadata": {
        "id": "QBmY64B84OXN",
        "colab": {
          "base_uri": "https://localhost:8080/",
          "height": 0
        },
        "outputId": "d94f7ddf-1d99-45b2-8e9e-2787188757d9"
      },
      "id": "QBmY64B84OXN",
      "execution_count": 15,
      "outputs": [
        {
          "output_type": "stream",
          "name": "stdout",
          "text": [
            "Following are top 10 most popular moviews based on consolidated user ratings:\n",
            "#1 Star Wars: Episode V - The Empire Strikes Back (1980), 12836\n",
            "#2 Star Wars: Episode VI - Return of the Jedi (1983), 11598\n",
            "#3 Saving Private Ryan (1998), 11507\n",
            "#4 Raiders of the Lost Ark (1981), 11257\n",
            "#5 Sixth Sense, The (1999), 10835\n",
            "#6 American Beauty (1999), 14800\n",
            "#7 Star Wars: Episode IV - A New Hope (1977), 13321\n",
            "#8 Silence of the Lambs, The (1991), 11219\n",
            "#9 Matrix, The (1999), 11178\n",
            "#10 Terminator 2: Judgment Day (1991), 10751\n"
          ]
        }
      ]
    },
    {
      "cell_type": "markdown",
      "source": [
        "## Q d) Provide statistical summary of the ratings provided by the user (count, mean, stddev, min, max)"
      ],
      "metadata": {
        "id": "pXcwQRNzrUPp"
      },
      "id": "pXcwQRNzrUPp"
    },
    {
      "cell_type": "code",
      "source": [
        "# Find out differnet values of count, mean, stddev, min and max\n",
        "# In ratings data, first column is userid and third column is rating. get count of distinct users\n",
        "ratings_rdd = splitted_ratings_data.map(lambda x: int(x[2]))\n",
        "\n",
        "# Total count of user ratings\n",
        "count_ratings = ratings_rdd.count()\n",
        "\n",
        "# Find mean of user ratings\n",
        "mean_rating = ratings_rdd.mean()\n",
        "\n",
        "# Find standard deviation\n",
        "std_dev_rating = ratings_rdd.stdev()\n",
        "\n",
        "# Find min rating\n",
        "min_rating = ratings_rdd.min()\n",
        "\n",
        "# Find max rating\n",
        "max_rating = ratings_rdd.max()\n"
      ],
      "metadata": {
        "id": "k89SttlVv92i"
      },
      "id": "k89SttlVv92i",
      "execution_count": 16,
      "outputs": []
    },
    {
      "cell_type": "code",
      "source": [
        "# Print the summary\n",
        "print(f'Following is the statistical summary of the ratings provided by the users')\n",
        "print(f'Count of ratings   : {count_ratings}')\n",
        "print(f'Mean of ratings    : {mean_rating}')\n",
        "print(f'Stddev of ratings  : {std_dev_rating}')\n",
        "print(f'Minimum of ratings : {min_rating}')\n",
        "print(f'Maximum of ratings : {max_rating}')\n"
      ],
      "metadata": {
        "colab": {
          "base_uri": "https://localhost:8080/",
          "height": 0
        },
        "id": "wXqDbh3Kx0Xp",
        "outputId": "34516e1d-c156-476e-fd25-83e11787257b"
      },
      "id": "wXqDbh3Kx0Xp",
      "execution_count": 17,
      "outputs": [
        {
          "output_type": "stream",
          "name": "stdout",
          "text": [
            "Following is the statistical summary of the ratings provided by the users\n",
            "Count of ratings   : 1000209\n",
            "Mean of ratings    : 3.5815644530292317\n",
            "Stddev of ratings  : 1.1171012869389108\n",
            "Minimum of ratings : 1\n",
            "Maximum of ratings : 5\n"
          ]
        }
      ]
    }
  ],
  "metadata": {
    "kernelspec": {
      "display_name": "anaconda-panel-2023.05-py310",
      "language": "python",
      "name": "conda-env-anaconda-panel-2023.05-py310-py"
    },
    "language_info": {
      "codemirror_mode": {
        "name": "ipython",
        "version": 3
      },
      "file_extension": ".py",
      "mimetype": "text/x-python",
      "name": "python",
      "nbconvert_exporter": "python",
      "pygments_lexer": "ipython3",
      "version": "3.11.3"
    },
    "colab": {
      "provenance": []
    }
  },
  "nbformat": 4,
  "nbformat_minor": 5
}