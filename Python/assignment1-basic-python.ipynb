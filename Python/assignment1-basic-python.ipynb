{
  "cells": [
    {
      "cell_type": "raw",
      "id": "ec7b9f0e-7949-4725-900f-0f41d9cb10e1",
      "metadata": {
        "id": "ec7b9f0e-7949-4725-900f-0f41d9cb10e1"
      },
      "source": []
    },
    {
      "cell_type": "raw",
      "id": "3e34469e-7ed5-48ee-8f78-abd821b4042f",
      "metadata": {
        "id": "3e34469e-7ed5-48ee-8f78-abd821b4042f"
      },
      "source": [
        "1. Create two arrays using array module for 5 integers and floating values. Append 2 more\n",
        "integers and 1 float in array."
      ]
    },
    {
      "cell_type": "code",
      "execution_count": 2,
      "id": "eea30c06-3b2d-46e4-8be3-ead730614672",
      "metadata": {
        "id": "eea30c06-3b2d-46e4-8be3-ead730614672",
        "outputId": "f833e1c6-f3df-4a21-fb65-d835fd1d3aed",
        "colab": {
          "base_uri": "https://localhost:8080/"
        }
      },
      "outputs": [
        {
          "output_type": "stream",
          "name": "stdout",
          "text": [
            "array('i', [1, 3, 5, 7, 9, 11, 13])\n",
            "array('f', [1.100000023841858, 3.299999952316284, 5.5, 7.699999809265137, 9.899999618530273, 11.109999656677246])\n"
          ]
        }
      ],
      "source": [
        "import array as arr\n",
        "\n",
        "# Create array with 5 integers\n",
        "array_int = arr.array('i', [1, 3, 5, 7, 9])\n",
        "\n",
        "# Create array with 5 float\n",
        "array_float= arr.array('f', [1.1, 3.3, 5.5, 7.7, 9.9])\n",
        "\n",
        "# Append two more integers\n",
        "array_int.append(11)\n",
        "array_int.append(13)\n",
        "\n",
        "# Append one more float\n",
        "array_float.append(11.11)\n",
        "\n",
        "# Print both array\n",
        "print(array_int)\n",
        "print(array_float)\n"
      ]
    },
    {
      "cell_type": "markdown",
      "source": [
        "2. Given a random set of numbers, print them in sorted order.\n",
        "A1[] = {5,97,23,45,2,63,2,14}"
      ],
      "metadata": {
        "id": "wN2Bopss5R55"
      },
      "id": "wN2Bopss5R55"
    },
    {
      "cell_type": "code",
      "source": [
        "# Let A1 be a set of random numbers, e.g. as given in question {5,97,23,45,2,63,2,14}\n",
        "A1 = {5,97,23,45,2,63,2,14}\n",
        "\n",
        "# Print the random set of numbers in sorted order\n",
        "print(sorted(A1))"
      ],
      "metadata": {
        "id": "RNBLTO2v5VGc",
        "outputId": "877405d1-6d27-4ebb-97dd-9525e6bb4bde",
        "colab": {
          "base_uri": "https://localhost:8080/"
        }
      },
      "id": "RNBLTO2v5VGc",
      "execution_count": 11,
      "outputs": [
        {
          "output_type": "stream",
          "name": "stdout",
          "text": [
            "[2, 5, 14, 23, 45, 63, 97]\n"
          ]
        }
      ]
    },
    {
      "cell_type": "markdown",
      "source": [
        "\n",
        "\n",
        "\n",
        "```\n",
        "3. Given array is A2= [1,5,3,6,43,24,2,76,17].\n",
        "Print:\n",
        "      a. All elements between index 2 and 6.\n",
        "      b. All elements after index 3.\n",
        "      c. First 2 elements of the list\n",
        "      d. Elements present at even indices (ie. index 0,2,4…)\n",
        "```\n",
        "\n"
      ],
      "metadata": {
        "id": "tM1NAqvG7sY_"
      },
      "id": "tM1NAqvG7sY_"
    },
    {
      "cell_type": "code",
      "source": [
        "# Given array\n",
        "A2 = [1, 5, 3, 6, 43, 24, 2, 76, 17]\n",
        "\n",
        "# Print all elements between index 2 and 6\n",
        "print('Between index 2 and 6', A2[3:7])\n",
        "\n",
        "# Print all elements after index 3\n",
        "print('After index 3: ', A2[4:])\n",
        "\n",
        "# Print first 2 elements of the list\n",
        "print('First 2 elements: ', A2[0:2])\n",
        "\n",
        "# Print elements present at even indices (ie. index 0,2,4…)\n",
        "print('Elements at even indices: ', A2[0::2])"
      ],
      "metadata": {
        "id": "umGmUCkK8D4b",
        "outputId": "07e23bcf-151c-47a5-a2cc-2272b1ede32a",
        "colab": {
          "base_uri": "https://localhost:8080/"
        }
      },
      "id": "umGmUCkK8D4b",
      "execution_count": 52,
      "outputs": [
        {
          "output_type": "stream",
          "name": "stdout",
          "text": [
            "Between index 2 and 6 [6, 43, 24, 2]\n",
            "After index 3:  [43, 24, 2, 76, 17]\n",
            "First 2 elements:  [1, 5]\n",
            "Elements at even indices:  [1, 3, 43, 2, 17]\n"
          ]
        }
      ]
    },
    {
      "cell_type": "markdown",
      "source": [
        "4. Given an array A of size 6 of integers. Your task is to find the minimum and\n",
        "maximum elements in the array.\n",
        "A3={3,1,9,137, 1023,54}\n"
      ],
      "metadata": {
        "id": "xDeE8QRl9ee8"
      },
      "id": "xDeE8QRl9ee8"
    },
    {
      "cell_type": "code",
      "source": [
        "A3 = {3, 1, 9, 137, 1023, 54}\n",
        "print('Minimum element is : ', min(A3))\n",
        "print('Maximum element is : ', max(A3))\n"
      ],
      "metadata": {
        "id": "BDJsa-5G9hnG",
        "outputId": "4266c55b-a67e-4279-c507-6e000b92474a",
        "colab": {
          "base_uri": "https://localhost:8080/"
        }
      },
      "id": "BDJsa-5G9hnG",
      "execution_count": 20,
      "outputs": [
        {
          "output_type": "stream",
          "name": "stdout",
          "text": [
            "Minimum element is :  1\n",
            "Maximum element is :  1023\n"
          ]
        }
      ]
    },
    {
      "cell_type": "markdown",
      "source": [
        "5. Find all the elements occurring more than once in the given array. Arr [] = {1,8,3,1,4,8,5}\n"
      ],
      "metadata": {
        "id": "UBMCbIfM-T-i"
      },
      "id": "UBMCbIfM-T-i"
    },
    {
      "cell_type": "code",
      "source": [
        "Arr = [1,8,3,1,4,8,5]\n",
        "\n",
        "# Find all repeating elements and store them in repeating_ele set\n",
        "repeating_ele = {ele for ele in Arr if Arr.count(ele) > 1}\n",
        "\n",
        "# Print the repeating elements\n",
        "print('Repeating elements are ', repeating_ele)\n"
      ],
      "metadata": {
        "id": "LjIm1f-z-YWH",
        "outputId": "6581ead1-01bf-49ba-edda-1d9c28ab6403",
        "colab": {
          "base_uri": "https://localhost:8080/"
        }
      },
      "id": "LjIm1f-z-YWH",
      "execution_count": 28,
      "outputs": [
        {
          "output_type": "stream",
          "name": "stdout",
          "text": [
            "Repeating elements are  {8, 1}\n"
          ]
        }
      ]
    },
    {
      "cell_type": "markdown",
      "source": [
        "6. Write a Python program to find those numbers which are divisible by 8 and multiple of 5,\n",
        "between 1000 and 3400 (both included).\n"
      ],
      "metadata": {
        "id": "nup7WT7gADC3"
      },
      "id": "nup7WT7gADC3"
    },
    {
      "cell_type": "code",
      "source": [
        "print(1000%40)"
      ],
      "metadata": {
        "id": "Wk72znndCN4O",
        "outputId": "4a4f9e44-e275-4f9c-ac99-35da7eca602a",
        "colab": {
          "base_uri": "https://localhost:8080/"
        }
      },
      "id": "Wk72znndCN4O",
      "execution_count": 40,
      "outputs": [
        {
          "output_type": "stream",
          "name": "stdout",
          "text": [
            "0\n"
          ]
        }
      ]
    },
    {
      "cell_type": "code",
      "source": [
        "# Numbers divisible by and 8 and multiple of 5 must be multiples of 40\n",
        "# Since 1000 is divisible by 40, we can start loop from 1000 and keep increamenting it by 40 till 3400\n",
        "for num in range(1000, 3400, 40):\n",
        "  print(num)"
      ],
      "metadata": {
        "id": "5MfjF7aVAUOm",
        "outputId": "92624f8c-b5d1-4ef4-d9ba-e2c69ece9183",
        "colab": {
          "base_uri": "https://localhost:8080/"
        }
      },
      "id": "5MfjF7aVAUOm",
      "execution_count": 42,
      "outputs": [
        {
          "output_type": "stream",
          "name": "stdout",
          "text": [
            "1000\n",
            "1040\n",
            "1080\n",
            "1120\n",
            "1160\n",
            "1200\n",
            "1240\n",
            "1280\n",
            "1320\n",
            "1360\n",
            "1400\n",
            "1440\n",
            "1480\n",
            "1520\n",
            "1560\n",
            "1600\n",
            "1640\n",
            "1680\n",
            "1720\n",
            "1760\n",
            "1800\n",
            "1840\n",
            "1880\n",
            "1920\n",
            "1960\n",
            "2000\n",
            "2040\n",
            "2080\n",
            "2120\n",
            "2160\n",
            "2200\n",
            "2240\n",
            "2280\n",
            "2320\n",
            "2360\n",
            "2400\n",
            "2440\n",
            "2480\n",
            "2520\n",
            "2560\n",
            "2600\n",
            "2640\n",
            "2680\n",
            "2720\n",
            "2760\n",
            "2800\n",
            "2840\n",
            "2880\n",
            "2920\n",
            "2960\n",
            "3000\n",
            "3040\n",
            "3080\n",
            "3120\n",
            "3160\n",
            "3200\n",
            "3240\n",
            "3280\n",
            "3320\n",
            "3360\n"
          ]
        }
      ]
    },
    {
      "cell_type": "markdown",
      "source": [
        "7. Write a Python program to get the Fibonacci series between 0 to 50."
      ],
      "metadata": {
        "id": "Vu55UbmzDC58"
      },
      "id": "Vu55UbmzDC58"
    },
    {
      "cell_type": "code",
      "source": [
        "feb_no = []\n",
        "num = 1\n",
        "sum = 0\n",
        "while sum <= 50:\n",
        "  print(sum)\n",
        "  sum = sum + num\n",
        "  num = num + 1\n",
        "\n",
        "\n"
      ],
      "metadata": {
        "id": "kKgm-URXDDob",
        "outputId": "774c9fee-37d9-4d52-94e6-cc7629334630",
        "colab": {
          "base_uri": "https://localhost:8080/"
        }
      },
      "id": "kKgm-URXDDob",
      "execution_count": 50,
      "outputs": [
        {
          "output_type": "stream",
          "name": "stdout",
          "text": [
            "0\n",
            "1\n",
            "3\n",
            "6\n",
            "10\n",
            "15\n",
            "21\n",
            "28\n",
            "36\n",
            "45\n"
          ]
        }
      ]
    },
    {
      "cell_type": "markdown",
      "source": [
        "8. Matrix multiplication in python. Mupltiply give two matrices and print the resultant\n",
        "matrix.\n",
        "A = [[2,3,4],[1,4,2].[1,4,3]] B =[[2,5,1],[1,1,1],[6,5,2]]"
      ],
      "metadata": {
        "id": "8yn84_9NFdqZ"
      },
      "id": "8yn84_9NFdqZ"
    },
    {
      "cell_type": "code",
      "source": [
        "import numpy as np\n",
        "\n",
        "A = np.array([[2, 3, 4], [1, 4, 2], [1, 4, 3]])\n",
        "print('Metrix A = \\n', A, '\\n')\n",
        "\n",
        "B = np.array([[2, 5, 1], [1, 1, 1], [6, 5, 2]])\n",
        "print('Matrix B = \\n', B, '\\n')\n",
        "\n",
        "print('Dot product (Matrix mutliplication result) = \\n', A.dot(B))"
      ],
      "metadata": {
        "id": "IafAQp5NFfu3",
        "outputId": "70b61d16-ad3e-40d1-f24b-8953bcc0eb1d",
        "colab": {
          "base_uri": "https://localhost:8080/"
        }
      },
      "id": "IafAQp5NFfu3",
      "execution_count": 57,
      "outputs": [
        {
          "output_type": "stream",
          "name": "stdout",
          "text": [
            "Metrix A = \n",
            " [[2 3 4]\n",
            " [1 4 2]\n",
            " [1 4 3]] \n",
            "\n",
            "Matrix B = \n",
            " [[2 5 1]\n",
            " [1 1 1]\n",
            " [6 5 2]] \n",
            "\n",
            "Dot product (Matrix mutliplication result) = \n",
            " [[31 33 13]\n",
            " [18 19  9]\n",
            " [24 24 11]]\n"
          ]
        }
      ]
    },
    {
      "cell_type": "markdown",
      "source": [
        "9. Create two directories and merge them"
      ],
      "metadata": {
        "id": "As47qvKeHFCv"
      },
      "id": "As47qvKeHFCv"
    },
    {
      "cell_type": "code",
      "source": [
        "# Create first dictionary dict_a\n",
        "dict_a = {'ak1': 11, 'ak2': 12, 'ak3': 13}\n",
        "print('First dictionary: ', dict_a)\n",
        "\n",
        "# Create second dictionary dict_b\n",
        "dict_b = {'bk1': 21, 'bk2': 22, 'bk3': 23}\n",
        "print('Second dictionary: ', dict_b)\n",
        "\n",
        "# Merge the two dictionries\n",
        "dict_merged = dict_a | dict_b\n",
        "\n",
        "#print merged dictionaries\n",
        "print('Merged dictionary: ', dict_merged)\n",
        "\n"
      ],
      "metadata": {
        "id": "oZeCFTWeHEwY",
        "outputId": "9ab5ea1e-d03f-4bdd-8640-7b36d53bdd64",
        "colab": {
          "base_uri": "https://localhost:8080/"
        }
      },
      "id": "oZeCFTWeHEwY",
      "execution_count": 59,
      "outputs": [
        {
          "output_type": "stream",
          "name": "stdout",
          "text": [
            "First dictionary:  {'ak1': 11, 'ak2': 12, 'ak3': 13}\n",
            "Second dictionary:  {'bk1': 21, 'bk2': 22, 'bk3': 23}\n",
            "Merged dictionary:  {'ak1': 11, 'ak2': 12, 'ak3': 13, 'bk1': 21, 'bk2': 22, 'bk3': 23}\n"
          ]
        }
      ]
    },
    {
      "cell_type": "markdown",
      "source": [
        "10. Create a string s= “1576” and parse it into an integer number."
      ],
      "metadata": {
        "id": "SBZcODLi4gl2"
      },
      "id": "SBZcODLi4gl2"
    },
    {
      "cell_type": "code",
      "execution_count": 1,
      "id": "a51f14bf-22c4-4bd3-899d-675e3a6c7638",
      "metadata": {
        "id": "a51f14bf-22c4-4bd3-899d-675e3a6c7638",
        "outputId": "e55fab4d-4140-4ba8-8d16-5ef12b4941f4",
        "colab": {
          "base_uri": "https://localhost:8080/"
        }
      },
      "outputs": [
        {
          "output_type": "stream",
          "name": "stdout",
          "text": [
            "s value:  1576 type:  <class 'str'>\n",
            "int_s value:  1576 type:  <class 'int'>\n"
          ]
        }
      ],
      "source": [
        "s = '1576'\n",
        "print('s value: ', s, 'type: ', type(s))\n",
        "int_s = int(s)\n",
        "print('int_s value: ', int_s, 'type: ', type(int_s))"
      ]
    }
  ],
  "metadata": {
    "kernelspec": {
      "display_name": "anaconda-panel-2023.05-py310",
      "language": "python",
      "name": "conda-env-anaconda-panel-2023.05-py310-py"
    },
    "language_info": {
      "codemirror_mode": {
        "name": "ipython",
        "version": 3
      },
      "file_extension": ".py",
      "mimetype": "text/x-python",
      "name": "python",
      "nbconvert_exporter": "python",
      "pygments_lexer": "ipython3",
      "version": "3.11.3"
    },
    "colab": {
      "provenance": [],
      "toc_visible": true
    }
  },
  "nbformat": 4,
  "nbformat_minor": 5
}