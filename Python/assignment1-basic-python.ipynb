{
 "cells": [
  {
   "cell_type": "raw",
   "id": "ec7b9f0e-7949-4725-900f-0f41d9cb10e1",
   "metadata": {},
   "source": [
    "10. Create a string s= “1576” and parse it into an integer number."
   ]
  },
  {
   "cell_type": "code",
   "execution_count": 6,
   "id": "a51f14bf-22c4-4bd3-899d-675e3a6c7638",
   "metadata": {},
   "outputs": [
    {
     "name": "stdout",
     "output_type": "stream",
     "text": [
      "s value:  1576 type:  <class 'str'>\n",
      "int_s value:  1576 type:  <class 'int'>\n"
     ]
    }
   ],
   "source": [
    "s = '1576'\n",
    "print('s value: ', s, 'type: ', type(s))\n",
    "int_s = int(s)\n",
    "print('int_s value: ', int_s, 'type: ', type(int_s))"
   ]
  },
  {
   "cell_type": "raw",
   "id": "3e34469e-7ed5-48ee-8f78-abd821b4042f",
   "metadata": {},
   "source": [
    "1. Create two arrays using array module for 5 integers and floating values. Append 2 more \n",
    "integers and 1 float in array."
   ]
  },
  {
   "cell_type": "code",
   "execution_count": 15,
   "id": "eea30c06-3b2d-46e4-8be3-ead730614672",
   "metadata": {},
   "outputs": [
    {
     "name": "stdout",
     "output_type": "stream",
     "text": [
      "array('i', [1, 3, 5, 7, 9, 11, 13])\n",
      "array('f', [1.100000023841858, 3.299999952316284, 5.5, 7.699999809265137, 9.899999618530273, 11.109999656677246])\n"
     ]
    }
   ],
   "source": [
    "import array as arr\n",
    "array_int = arr.array('i', [1, 3, 5, 7, 9])\n",
    "array_float= arr.array('f', [1.1, 3.3, 5.5, 7.7, 9.9])\n",
    "array_int.append(11)\n",
    "array_int.append(13)\n",
    "array_float.append(11.11)\n",
    "\n",
    "print(array_int)\n",
    "print(array_float)\n"
   ]
  },
  {
   "cell_type": "code",
   "execution_count": null,
   "id": "663412db-b5ce-410d-98a4-8e6d86e77d03",
   "metadata": {},
   "outputs": [],
   "source": []
  }
 ],
 "metadata": {
  "kernelspec": {
   "display_name": "anaconda-panel-2023.05-py310",
   "language": "python",
   "name": "conda-env-anaconda-panel-2023.05-py310-py"
  },
  "language_info": {
   "codemirror_mode": {
    "name": "ipython",
    "version": 3
   },
   "file_extension": ".py",
   "mimetype": "text/x-python",
   "name": "python",
   "nbconvert_exporter": "python",
   "pygments_lexer": "ipython3",
   "version": "3.11.3"
  }
 },
 "nbformat": 4,
 "nbformat_minor": 5
}
