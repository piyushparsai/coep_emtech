{
 "cells": [
  {
   "cell_type": "code",
   "execution_count": null,
   "id": "8c7bff57-dd99-424c-881f-9cb1682cbcee",
   "metadata": {},
   "outputs": [],
   "source": [
    "import filedate\n",
    "from pathlib import Path"
   ]
  },
  {
   "cell_type": "code",
   "execution_count": null,
   "id": "1ab791fc-c816-414f-9ec0-8518437946e9",
   "metadata": {},
   "outputs": [],
   "source": [
    "for i in range(1,31):\n",
    "    file_name = f'c:\\\\temp\\\\path\\\\cat_03_{i}.hzp'\n",
    "    path = Path(file_name)\n",
    "    print(path)\n",
    "    path.write_text(str(\"\"))\n",
    "    a_file = filedate.File(file_name)\n",
    "    createdDt = f\"2022.03.{i} 13:00:00\"\n",
    "    print(createdDt)\n",
    "    a_file.set(\n",
    "        created = createdDt\n",
    "    )"
   ]
  },
  {
   "cell_type": "code",
   "execution_count": null,
   "id": "d0dbb192-22df-4a93-94fc-81e912dd00d2",
   "metadata": {},
   "outputs": [],
   "source": []
  }
 ],
 "metadata": {
  "kernelspec": {
   "display_name": "Python 3 (ipykernel)",
   "language": "python",
   "name": "python3"
  },
  "language_info": {
   "codemirror_mode": {
    "name": "ipython",
    "version": 3
   },
   "file_extension": ".py",
   "mimetype": "text/x-python",
   "name": "python",
   "nbconvert_exporter": "python",
   "pygments_lexer": "ipython3",
   "version": "3.12.2"
  }
 },
 "nbformat": 4,
 "nbformat_minor": 5
}
